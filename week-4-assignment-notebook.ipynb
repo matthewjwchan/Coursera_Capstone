{
 "cells": [
  {
   "cell_type": "markdown",
   "metadata": {},
   "source": [
    "# The Big Move: Working out where to live in Toronto\n",
    "\n",
    "For most of my life, I have lived in Melbourne. Most recently, I lived in a fun neighbourhood called North Melbourne, which was known for having a lot of nice brunch places, cafes, and proximity to Melbourne's city centre. However, I am planning to move to a city like Toronto for work, and am looking for similar neighbourhoods to live in.\n",
    "\n",
    "The problem to be solved is finding hip neighbourhoods similar to North Melbourne in Toronto to live in. There is a sizeable community of Australians living in Toronto, and so such a report may either be directly useful for people looking for similar neighbourhoods, or may be repurposed to look for similarities between other neighbourhoods. This kind of tool is therefore undoubtedly of value to people moving between the two cities, a common occurrence. For my own case, this will directly help to find a shortlist of neighbourhoods, from which I can compare other factors important to me other than venues.\n",
    "\n",
    "## Data Requirements\n",
    "\n",
    "The data required for this case is:\n",
    "* A list of neighbourhoods in Toronto (scraped from Wikipedia)\n",
    "* The geographical coordinates of these neighbourhoods (using the CSV file given in Module 3)\n",
    "* Venue data for these neighbourhoods, primarily venue categories (from the Foursquare API)\n",
    "* Distance of these neighbourhoods from the city centre of Toronto (using Haversine formula & geographical coordinates)\n",
    "* The geographical coordinates of North Melbourne (manually collected)\n",
    "* Venue data for the neighbourhood of North Melbourne (from the Foursquare API)\n",
    "* Distance of North Melbourne from the city centre of Melbourne (using Haversine formula & geographical coordinates)\n",
    "\n",
    "For the purpose of this exercise, I have defined the city centre as the busiest transportation station in the city. In the case of Toronto, this would be Union Station, whereas for Melbourne, this would be Flinders Street Station."
   ]
  }
 ],
 "metadata": {
  "kernelspec": {
   "display_name": "Python 3",
   "language": "python",
   "name": "python3"
  },
  "language_info": {
   "codemirror_mode": {
    "name": "ipython",
    "version": 3
   },
   "file_extension": ".py",
   "mimetype": "text/x-python",
   "name": "python",
   "nbconvert_exporter": "python",
   "pygments_lexer": "ipython3",
   "version": "3.8.5"
  }
 },
 "nbformat": 4,
 "nbformat_minor": 2
}
